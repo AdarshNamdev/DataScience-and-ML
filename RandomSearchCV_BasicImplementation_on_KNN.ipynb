{
 "cells": [
  {
   "cell_type": "code",
   "execution_count": 1,
   "metadata": {
    "colab": {},
    "colab_type": "code",
    "id": "jf0RGtC0falF"
   },
   "outputs": [],
   "source": [
    "from sklearn.metrics import accuracy_score\n",
    "from sklearn.neighbors import KNeighborsClassifier\n",
    "import numpy as np\n",
    "import pandas as pd\n",
    "from sklearn.datasets import make_classification"
   ]
  },
  {
   "cell_type": "code",
   "execution_count": 2,
   "metadata": {
    "colab": {
     "base_uri": "https://localhost:8080/",
     "height": 271
    },
    "colab_type": "code",
    "executionInfo": {
     "elapsed": 1272,
     "status": "ok",
     "timestamp": 1586613182480,
     "user": {
      "displayName": "Adarsh Namdev",
      "photoUrl": "https://lh3.googleusercontent.com/a-/AOh14GigwZZPjzlmv6tT2Lvjnv5r4NgavEUNUKKU0AUo=s64",
      "userId": "02781257034084729830"
     },
     "user_tz": -330
    },
    "id": "mBXl2Dg7go4q",
    "outputId": "b0badb36-68f4-4dc8-8bac-14e03edf0b46"
   },
   "outputs": [
    {
     "name": "stdout",
     "output_type": "stream",
     "text": [
      "(10000, 3)\n"
     ]
    },
    {
     "data": {
      "text/html": [
       "<div>\n",
       "<style scoped>\n",
       "    .dataframe tbody tr th:only-of-type {\n",
       "        vertical-align: middle;\n",
       "    }\n",
       "\n",
       "    .dataframe tbody tr th {\n",
       "        vertical-align: top;\n",
       "    }\n",
       "\n",
       "    .dataframe thead th {\n",
       "        text-align: right;\n",
       "    }\n",
       "</style>\n",
       "<table border=\"1\" class=\"dataframe\">\n",
       "  <thead>\n",
       "    <tr style=\"text-align: right;\">\n",
       "      <th></th>\n",
       "      <th>f1</th>\n",
       "      <th>f2</th>\n",
       "      <th>class</th>\n",
       "    </tr>\n",
       "  </thead>\n",
       "  <tbody>\n",
       "    <tr>\n",
       "      <th>0</th>\n",
       "      <td>0.994448</td>\n",
       "      <td>-1.516667</td>\n",
       "      <td>0</td>\n",
       "    </tr>\n",
       "    <tr>\n",
       "      <th>1</th>\n",
       "      <td>-0.340479</td>\n",
       "      <td>-0.395461</td>\n",
       "      <td>1</td>\n",
       "    </tr>\n",
       "    <tr>\n",
       "      <th>2</th>\n",
       "      <td>-0.929780</td>\n",
       "      <td>-1.448549</td>\n",
       "      <td>1</td>\n",
       "    </tr>\n",
       "    <tr>\n",
       "      <th>3</th>\n",
       "      <td>1.726444</td>\n",
       "      <td>-2.539542</td>\n",
       "      <td>0</td>\n",
       "    </tr>\n",
       "    <tr>\n",
       "      <th>4</th>\n",
       "      <td>-1.956264</td>\n",
       "      <td>-1.538624</td>\n",
       "      <td>1</td>\n",
       "    </tr>\n",
       "    <tr>\n",
       "      <th>5</th>\n",
       "      <td>0.747555</td>\n",
       "      <td>-0.211740</td>\n",
       "      <td>0</td>\n",
       "    </tr>\n",
       "    <tr>\n",
       "      <th>6</th>\n",
       "      <td>-1.228424</td>\n",
       "      <td>-1.218711</td>\n",
       "      <td>1</td>\n",
       "    </tr>\n",
       "  </tbody>\n",
       "</table>\n",
       "</div>"
      ],
      "text/plain": [
       "         f1        f2  class\n",
       "0  0.994448 -1.516667      0\n",
       "1 -0.340479 -0.395461      1\n",
       "2 -0.929780 -1.448549      1\n",
       "3  1.726444 -2.539542      0\n",
       "4 -1.956264 -1.538624      1\n",
       "5  0.747555 -0.211740      0\n",
       "6 -1.228424 -1.218711      1"
      ]
     },
     "execution_count": 2,
     "metadata": {},
     "output_type": "execute_result"
    }
   ],
   "source": [
    "x,y = make_classification(n_samples = 10000, n_classes= 2, n_features = 2, n_informative = 2, \n",
    "                          n_redundant= 0, n_clusters_per_class= 1, random_state = 60);\n",
    "\n",
    "#print(type(x));print(y)\n",
    "\n",
    "df = pd.DataFrame(data= x, columns = ['f1', 'f2'])\n",
    "df['class'] = y\n",
    "print(df.shape)\n",
    "df.head(7)"
   ]
  },
  {
   "cell_type": "code",
   "execution_count": 3,
   "metadata": {
    "colab": {
     "base_uri": "https://localhost:8080/",
     "height": 402
    },
    "colab_type": "code",
    "executionInfo": {
     "elapsed": 1253,
     "status": "ok",
     "timestamp": 1586613182481,
     "user": {
      "displayName": "Adarsh Namdev",
      "photoUrl": "https://lh3.googleusercontent.com/a-/AOh14GigwZZPjzlmv6tT2Lvjnv5r4NgavEUNUKKU0AUo=s64",
      "userId": "02781257034084729830"
     },
     "user_tz": -330
    },
    "id": "bh3Gtdv-gsHe",
    "outputId": "d57869ba-1483-444b-e2b0-af1782dc6a78"
   },
   "outputs": [
    {
     "data": {
      "text/html": [
       "<div>\n",
       "<style scoped>\n",
       "    .dataframe tbody tr th:only-of-type {\n",
       "        vertical-align: middle;\n",
       "    }\n",
       "\n",
       "    .dataframe tbody tr th {\n",
       "        vertical-align: top;\n",
       "    }\n",
       "\n",
       "    .dataframe thead th {\n",
       "        text-align: right;\n",
       "    }\n",
       "</style>\n",
       "<table border=\"1\" class=\"dataframe\">\n",
       "  <thead>\n",
       "    <tr style=\"text-align: right;\">\n",
       "      <th></th>\n",
       "      <th>f1</th>\n",
       "      <th>f2</th>\n",
       "    </tr>\n",
       "  </thead>\n",
       "  <tbody>\n",
       "    <tr>\n",
       "      <th>4259</th>\n",
       "      <td>-1.181279</td>\n",
       "      <td>-1.226115</td>\n",
       "    </tr>\n",
       "    <tr>\n",
       "      <th>7702</th>\n",
       "      <td>-0.484871</td>\n",
       "      <td>-0.483827</td>\n",
       "    </tr>\n",
       "    <tr>\n",
       "      <th>8550</th>\n",
       "      <td>1.243530</td>\n",
       "      <td>-1.071963</td>\n",
       "    </tr>\n",
       "    <tr>\n",
       "      <th>4466</th>\n",
       "      <td>-1.675476</td>\n",
       "      <td>-1.375246</td>\n",
       "    </tr>\n",
       "    <tr>\n",
       "      <th>3195</th>\n",
       "      <td>-2.171220</td>\n",
       "      <td>-2.061962</td>\n",
       "    </tr>\n",
       "    <tr>\n",
       "      <th>...</th>\n",
       "      <td>...</td>\n",
       "      <td>...</td>\n",
       "    </tr>\n",
       "    <tr>\n",
       "      <th>8371</th>\n",
       "      <td>-0.105077</td>\n",
       "      <td>-0.156773</td>\n",
       "    </tr>\n",
       "    <tr>\n",
       "      <th>7387</th>\n",
       "      <td>1.517427</td>\n",
       "      <td>-0.741815</td>\n",
       "    </tr>\n",
       "    <tr>\n",
       "      <th>1841</th>\n",
       "      <td>1.101556</td>\n",
       "      <td>-0.187951</td>\n",
       "    </tr>\n",
       "    <tr>\n",
       "      <th>6731</th>\n",
       "      <td>-0.530719</td>\n",
       "      <td>-0.574776</td>\n",
       "    </tr>\n",
       "    <tr>\n",
       "      <th>2190</th>\n",
       "      <td>1.333641</td>\n",
       "      <td>-1.386299</td>\n",
       "    </tr>\n",
       "  </tbody>\n",
       "</table>\n",
       "<p>1500 rows × 2 columns</p>\n",
       "</div>"
      ],
      "text/plain": [
       "            f1        f2\n",
       "4259 -1.181279 -1.226115\n",
       "7702 -0.484871 -0.483827\n",
       "8550  1.243530 -1.071963\n",
       "4466 -1.675476 -1.375246\n",
       "3195 -2.171220 -2.061962\n",
       "...        ...       ...\n",
       "8371 -0.105077 -0.156773\n",
       "7387  1.517427 -0.741815\n",
       "1841  1.101556 -0.187951\n",
       "6731 -0.530719 -0.574776\n",
       "2190  1.333641 -1.386299\n",
       "\n",
       "[1500 rows x 2 columns]"
      ]
     },
     "execution_count": 3,
     "metadata": {},
     "output_type": "execute_result"
    }
   ],
   "source": [
    "from sklearn.model_selection import train_test_split\n",
    "x = df.iloc[:,0:-1]\n",
    "y = df.iloc[:,-1]\n",
    "x_train, x_test, y_train, y_test = train_test_split(x,y, train_size = 0.85)\n",
    "x_test"
   ]
  },
  {
   "cell_type": "code",
   "execution_count": 4,
   "metadata": {
    "colab": {
     "base_uri": "https://localhost:8080/",
     "height": 84
    },
    "colab_type": "code",
    "executionInfo": {
     "elapsed": 1240,
     "status": "ok",
     "timestamp": 1586613182483,
     "user": {
      "displayName": "Adarsh Namdev",
      "photoUrl": "https://lh3.googleusercontent.com/a-/AOh14GigwZZPjzlmv6tT2Lvjnv5r4NgavEUNUKKU0AUo=s64",
      "userId": "02781257034084729830"
     },
     "user_tz": -330
    },
    "id": "R5fElINPguOn",
    "outputId": "b83cdd11-3afb-4df2-fc6d-a49c9ac6eb70"
   },
   "outputs": [
    {
     "name": "stdout",
     "output_type": "stream",
     "text": [
      "Shape of Training dataset (8500, 2)\n",
      "(8500,)\n",
      "shape of Test dataset (1500, 2)\n",
      "(1500,)\n"
     ]
    }
   ],
   "source": [
    "print(\"Shape of Training dataset\",x_train.shape);print(y_train.shape)\n",
    "print(\"shape of Test dataset\", x_test.shape);print(y_test.shape)"
   ]
  },
  {
   "cell_type": "code",
   "execution_count": 5,
   "metadata": {
    "colab": {
     "base_uri": "https://localhost:8080/",
     "height": 458
    },
    "colab_type": "code",
    "executionInfo": {
     "elapsed": 2856,
     "status": "ok",
     "timestamp": 1586613184113,
     "user": {
      "displayName": "Adarsh Namdev",
      "photoUrl": "https://lh3.googleusercontent.com/a-/AOh14GigwZZPjzlmv6tT2Lvjnv5r4NgavEUNUKKU0AUo=s64",
      "userId": "02781257034084729830"
     },
     "user_tz": -330
    },
    "id": "ANbPFsc8gu2K",
    "outputId": "667cc221-257e-4355-d9ed-d3fc3f6155a8"
   },
   "outputs": [
    {
     "name": "stderr",
     "output_type": "stream",
     "text": [
      "C:\\ProgramData\\Anaconda3\\lib\\site-packages\\statsmodels\\tools\\_testing.py:19: FutureWarning: pandas.util.testing is deprecated. Use the functions in the public API at pandas.testing instead.\n",
      "  import pandas.util.testing as tm\n"
     ]
    },
    {
     "data": {
      "text/plain": [
       "<Figure size 800x600 with 1 Axes>"
      ]
     },
     "metadata": {},
     "output_type": "display_data"
    }
   ],
   "source": [
    "import matplotlib.pyplot as plt\n",
    "import seaborn as sb\n",
    "from warnings import filterwarnings\n",
    "filterwarnings(action = 'ignore')\n",
    "\n",
    "plt.figure(figsize = (8,6), facecolor= 'turquoise')\n",
    "plt.title(\"Feature1 Vs. Feature2\")\n",
    "sb.scatterplot(x = df['f1'], y = df['f2'], hue = df['class'], palette = ['Red', 'Green'])\n",
    "sb.set_style(\"darkgrid\")\n",
    "plt.show()"
   ]
  },
  {
   "cell_type": "code",
   "execution_count": 6,
   "metadata": {
    "colab": {},
    "colab_type": "code",
    "id": "OeLAdAg0gh3H"
   },
   "outputs": [],
   "source": [
    "\n",
    "def RandomSearchCV(x_train, y_train, folds, classifier, param_range):\n",
    "    #hyperparameters = [int(i) for i in (np.random.uniform(1, param_range, 10))]\n",
    "    print(\"All Hyperparameters: \", param_range)\n",
    "    train_groups = grouping_data(x_train, folds)\n",
    "    #print(train_groups)\n",
    "    all_train_idx = set([i for i in range(0, len(x_train))])   \n",
    "    all_cv_accuracy = []\n",
    "    all_train_accuracy = []\n",
    "    \n",
    "    for k in hyperparameters:\n",
    "        fold_test_accuracy = []\n",
    "        fold_train_accuracy = []\n",
    "\n",
    "        for group in train_groups:\n",
    "                        \n",
    "            new_x_train = x_train[list(group)]\n",
    "            new_y_train = y_train[list(group)]\n",
    "            new_x_test = x_train[list(all_train_idx - group)]\n",
    "            new_y_test = y_train[list(all_train_idx - group)]\n",
    "            \n",
    "            classifier.n_neighbors = k\n",
    "            classifier.fit(new_x_train, new_y_train)\n",
    "            \n",
    "            y_train_prediction = classifier.predict(new_x_train)\n",
    "            fold_train_accuracy.append(accuracy_score(new_y_train, y_train_prediction))\n",
    "            \n",
    "            y_test_prediction = classifier.predict(new_x_test)\n",
    "            fold_test_accuracy.append(accuracy_score(new_y_test, y_test_prediction))\n",
    "            \n",
    "            \n",
    "        all_cv_accuracy.append(np.mean(np.array(fold_test_accuracy)))\n",
    "        all_train_accuracy.append(np.mean(np.array(fold_train_accuracy)))\n",
    "        \n",
    "        \n",
    "    return all_cv_accuracy, all_train_accuracy\n",
    "\n",
    "\n",
    "        \n",
    "def grouping_data(x_train, folds):\n",
    "    \"\"\"\n",
    "    Let's suppose we divide the Dtrain into D1, D2, D3.\n",
    "    This function written here will ultimately form a list of sets and these sets is formed\n",
    "    of the indices to be used while grouping. Grouping here is the rotation where one out of D1,D2,D3 will\n",
    "    form a test data and rest two will form Training data in the cross validation stage. \n",
    "    \n",
    "    \"\"\"\n",
    "    \n",
    "    train_group_idx = []   # list of sets\n",
    "   \n",
    "    indices = []\n",
    "    data_per_grp = int(len(x_train)/folds)    # 2833 dpts per group we need when folds = 3\n",
    "    #print(len(x_train))\n",
    "\n",
    "    i = 0\n",
    "    start_idx = 0\n",
    "    end_idx = data_per_grp\n",
    "    while i < folds:\n",
    "        indices.append([i for i in range(start_idx, end_idx)])\n",
    "        start_idx = end_idx\n",
    "        end_idx = start_idx + data_per_grp\n",
    "            \n",
    "        i+= 1\n",
    "            \n",
    "    for j in range(0,len(indices)-1):\n",
    "        if j < len(indices)-1:\n",
    "            train_group_idx.append(set(indices[j]).union(set(indices[j+1])))\n",
    "      \n",
    "             \n",
    "    train_group_idx.append(set(indices[0]).union(set(indices[-1])))\n",
    "                \n",
    "            \n",
    "    return train_group_idx "
   ]
  },
  {
   "cell_type": "code",
   "execution_count": 7,
   "metadata": {
    "colab": {
     "base_uri": "https://localhost:8080/",
     "height": 710
    },
    "colab_type": "code",
    "executionInfo": {
     "elapsed": 2239,
     "status": "error",
     "timestamp": 1586617042135,
     "user": {
      "displayName": "Adarsh Namdev",
      "photoUrl": "https://lh3.googleusercontent.com/a-/AOh14GigwZZPjzlmv6tT2Lvjnv5r4NgavEUNUKKU0AUo=s64",
      "userId": "02781257034084729830"
     },
     "user_tz": -330
    },
    "id": "RyuwwPDKfdAd",
    "outputId": "d645a9d8-96a9-43ce-e607-cf7242f3cc3b"
   },
   "outputs": [
    {
     "name": "stdout",
     "output_type": "stream",
     "text": [
      "All Hyperparameters:  [11, 14, 42, 15, 10, 32, 12, 8, 41, 39]\n",
      "Training Scores: \n",
      " [0.9611176470588235, 0.9610588235294119, 0.960235294117647, 0.9605882352941176, 0.9617058823529412, 0.9605882352941176, 0.9615882352941176, 0.9621764705882352, 0.9605882352941176, 0.9603529411764706]\n",
      "\n",
      "\n",
      "Test Scores: \n",
      " [0.9582745098039215, 0.9590196078431372, 0.96, 0.9586274509803921, 0.9585098039215685, 0.959764705882353, 0.9584313725490196, 0.9579607843137256, 0.9599215686274508, 0.9600392156862746]\n"
     ]
    }
   ],
   "source": [
    "param_range = 50\n",
    "hyperparameters = [int(i) for i in (np.random.uniform(1, param_range, 10))]\n",
    "folds = 5\n",
    "\n",
    "clf = KNeighborsClassifier()\n",
    "x_train = np.array(x_train)\n",
    "y_train = np.array(y_train)\n",
    "\n",
    "test_score, train_score = RandomSearchCV(x_train, y_train, folds, clf, hyperparameters)\n",
    "print(\"Training Scores: \\n\",train_score);print(\"\\n\")\n",
    "print(\"Test Scores: \\n\",test_score)"
   ]
  },
  {
   "cell_type": "code",
   "execution_count": 8,
   "metadata": {
    "colab": {},
    "colab_type": "code",
    "id": "an82QoaJihoj",
    "scrolled": false
   },
   "outputs": [
    {
     "data": {
      "image/png": "[encoded data removed]",
      "text/plain": [
       "<Figure size 576x432 with 1 Axes>"
      ]
     },
     "metadata": {},
     "output_type": "display_data"
    }
   ],
   "source": [
    "plt.figure(figsize = (8,6), facecolor = 'turquoise')\n",
    "sb.set_style(\"darkgrid\")\n",
    "plt.plot(sorted(hyperparameters), train_score, label = \"Training Curve\")\n",
    "plt.plot(sorted(hyperparameters), test_score, label = \"Testing Curve\")\n",
    "plt.legend()\n",
    "plt.title(\"Hyperparameter Vs. Accuracy\")\n",
    "plt.show()"
   ]
  },
  {
   "cell_type": "code",
   "execution_count": 9,
   "metadata": {},
   "outputs": [
    {
     "name": "stdout",
     "output_type": "stream",
     "text": [
      "Best K value is:  42\n"
     ]
    }
   ],
   "source": [
    "error_diff = []\n",
    "for i in range(0, len(hyperparameters)):\n",
    "    error_diff.append(train_score[i] - test_score[i])\n",
    "\n",
    "optimal_k = hyperparameters[np.argsort(error_diff)[0]]\n",
    "print(\"Best K value is: \", optimal_k)"
   ]
  },
  {
   "cell_type": "code",
   "execution_count": 10,
   "metadata": {},
   "outputs": [],
   "source": [
    "def plot_decision_boundary(X1, X2, y, clf):\n",
    "        # Create color maps\n",
    "    cmap_light = ListedColormap(['#FFAAAA', '#AAFFAA', '#AAAAFF'])\n",
    "    cmap_bold = ListedColormap(['#FF0000', '#00FF00', '#0000FF'])\n",
    "\n",
    "    x_min, x_max = X1.min() - 1, X1.max() + 1\n",
    "    y_min, y_max = X2.min() - 1, X2.max() + 1\n",
    "    \n",
    "    xx, yy = np.meshgrid(np.arange(x_min, x_max, 0.02), np.arange(y_min, y_max, 0.02))\n",
    "    Z = clf.predict(np.c_[xx.ravel(), yy.ravel()])\n",
    "    Z = Z.reshape(xx.shape)\n",
    "\n",
    "    plt.figure()\n",
    "    plt.pcolormesh(xx, yy, Z, cmap=cmap_light)\n",
    "    # Plot also the training points\n",
    "    plt.scatter(X1, X2, c=y, cmap=cmap_bold)\n",
    "    \n",
    "    plt.xlim(xx.min(), xx.max())\n",
    "    plt.ylim(yy.min(), yy.max())\n",
    "    plt.title(\"2-Class classification (k = %i)\" % (clf.n_neighbors))\n",
    "    plt.show()"
   ]
  },
  {
   "cell_type": "code",
   "execution_count": 11,
   "metadata": {},
   "outputs": [
    {
     "data": {
      "image/png": "[encoded data removed]",
      "text/plain": [
       "<Figure size 432x288 with 1 Axes>"
      ]
     },
     "metadata": {},
     "output_type": "display_data"
    }
   ],
   "source": [
    "from matplotlib.colors import ListedColormap\n",
    "neigh = KNeighborsClassifier(n_neighbors = optimal_k)\n",
    "neigh.fit(x_train, y_train)\n",
    "plot_decision_boundary(x_train[:, 0], x_train[:, 1], y_train, neigh)"
   ]
  },
  {
   "cell_type": "markdown",
   "metadata": {},
   "source": [
    "### Confirming the best parameter (K) value using scikit learn library"
   ]
  },
  {
   "cell_type": "code",
   "execution_count": 12,
   "metadata": {},
   "outputs": [
    {
     "data": {
      "text/plain": [
       "{'n_neighbors': 42}"
      ]
     },
     "execution_count": 12,
     "metadata": {},
     "output_type": "execute_result"
    }
   ],
   "source": [
    "from sklearn.model_selection import GridSearchCV\n",
    "parameters = {'n_neighbors': hyperparameters}\n",
    "clf = GridSearchCV(estimator = KNeighborsClassifier(), param_grid = parameters, scoring = 'accuracy', cv = 5, n_jobs = 5)\n",
    "clf.fit(x_train, y_train)\n",
    "clf.best_params_"
   ]
  }
 ],
 "metadata": {
  "colab": {
   "authorship_tag": "ABX9TyMN2lrZAik4rrJTnZuT0mJs",
   "collapsed_sections": [],
   "name": "RandomSearchCV.ipynb",
   "provenance": []
  },
  "kernelspec": {
   "display_name": "Python 3",
   "language": "python",
   "name": "python3"
  },
  "language_info": {
   "codemirror_mode": {
    "name": "ipython",
    "version": 3
   },
   "file_extension": ".py",
   "mimetype": "text/x-python",
   "name": "python",
   "nbconvert_exporter": "python",
   "pygments_lexer": "ipython3",
   "version": "3.7.3"
  }
 },
 "nbformat": 4,
 "nbformat_minor": 1
}
