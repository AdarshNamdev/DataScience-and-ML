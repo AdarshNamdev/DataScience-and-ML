{
 "cells": [
  {
   "cell_type": "code",
   "execution_count": 1,
   "metadata": {},
   "outputs": [],
   "source": [
    "import numpy as np"
   ]
  },
  {
   "cell_type": "code",
   "execution_count": 24,
   "metadata": {},
   "outputs": [],
   "source": [
    "data = np.genfromtxt(r\"D:\\Applied AI\\Datasets and DB\\KNN\\KNN- DemoDataset\\6.overlap.csv\", delimiter = ',')\n",
    "#data[:,:2]"
   ]
  },
  {
   "cell_type": "code",
   "execution_count": 3,
   "metadata": {},
   "outputs": [],
   "source": [
    "import pandas as pd"
   ]
  },
  {
   "cell_type": "code",
   "execution_count": 4,
   "metadata": {},
   "outputs": [
    {
     "data": {
      "text/html": [
       "<div>\n",
       "<style scoped>\n",
       "    .dataframe tbody tr th:only-of-type {\n",
       "        vertical-align: middle;\n",
       "    }\n",
       "\n",
       "    .dataframe tbody tr th {\n",
       "        vertical-align: top;\n",
       "    }\n",
       "\n",
       "    .dataframe thead th {\n",
       "        text-align: right;\n",
       "    }\n",
       "</style>\n",
       "<table border=\"1\" class=\"dataframe\">\n",
       "  <thead>\n",
       "    <tr style=\"text-align: right;\">\n",
       "      <th></th>\n",
       "      <th>data1</th>\n",
       "      <th>data2</th>\n",
       "      <th>class_label</th>\n",
       "    </tr>\n",
       "  </thead>\n",
       "  <tbody>\n",
       "    <tr>\n",
       "      <th>0</th>\n",
       "      <td>7.0</td>\n",
       "      <td>3.2</td>\n",
       "      <td>0</td>\n",
       "    </tr>\n",
       "    <tr>\n",
       "      <th>1</th>\n",
       "      <td>6.4</td>\n",
       "      <td>3.2</td>\n",
       "      <td>0</td>\n",
       "    </tr>\n",
       "    <tr>\n",
       "      <th>2</th>\n",
       "      <td>6.9</td>\n",
       "      <td>3.1</td>\n",
       "      <td>0</td>\n",
       "    </tr>\n",
       "    <tr>\n",
       "      <th>3</th>\n",
       "      <td>5.5</td>\n",
       "      <td>2.3</td>\n",
       "      <td>0</td>\n",
       "    </tr>\n",
       "    <tr>\n",
       "      <th>4</th>\n",
       "      <td>6.5</td>\n",
       "      <td>2.8</td>\n",
       "      <td>0</td>\n",
       "    </tr>\n",
       "  </tbody>\n",
       "</table>\n",
       "</div>"
      ],
      "text/plain": [
       "   data1  data2  class_label\n",
       "0    7.0    3.2            0\n",
       "1    6.4    3.2            0\n",
       "2    6.9    3.1            0\n",
       "3    5.5    2.3            0\n",
       "4    6.5    2.8            0"
      ]
     },
     "execution_count": 4,
     "metadata": {},
     "output_type": "execute_result"
    }
   ],
   "source": [
    "# just to compate the result produced by np.genfromtxt method above. They both are same!!!\n",
    "data_df = pd.read_csv(r\"D:\\Applied AI\\Datasets and DB\\KNN\\KNN- DemoDataset\\6.overlap.csv\", header= None)\n",
    "data_df.columns = ['data1', 'data2', 'class_label']\n",
    "data_df.head()"
   ]
  },
  {
   "cell_type": "code",
   "execution_count": null,
   "metadata": {},
   "outputs": [],
   "source": [
    "from sklearn import neighbors\n",
    "import matplotlib.pyplot as plt\n",
    "from matplotlib.colors import ListedColormap\n",
    "import seaborn as sb\n",
    "from seaborn import color_palette\n",
    "\n",
    "decision_surf_color = ListedColormap(['#FFAAAA',  '#AAAAFF'])\n",
    "datapoint_colors = ListedColormap(['#FF0000', '#0000FF'])\n",
    "\n",
    "dpt_color = color_palette(['#FF0000', '#0000FF'], n_colors = 2)\n",
    "\n",
    "def knn_comparisons(dataset, nn):\n",
    "    X = dataset[:,0:2]\n",
    "    y = dataset[:,2]\n",
    "    \n",
    "    clf = neighbors.KNeighborsClassifier(nn)\n",
    "    clf.fit(X,y)\n",
    "    \n",
    "    # constructing the meshgrid. \n",
    "    x_min = X[:,0].min()-1\n",
    "    x_max = X[:,0].max()+1\n",
    "    y_min = X[:,1].min()-1\n",
    "    y_max = X[:,1].max()+1\n",
    "    \n",
    "    # Here each point xx,yy on the meshgrid represent our query point(Xq)!!!\n",
    "    xx,yy = np.meshgrid(np.arange(x_min, x_max, 0.02), np.arange(y_min, y_max, 0.02))\n",
    "#     print(\"xx shape:\",xx.shape)\n",
    "#     print(\"yy shape:\",yy.shape)\n",
    "    class_prediction = clf.predict(np.c_[xx.ravel(), yy.ravel()])\n",
    "#     print(class_prediction)\n",
    "#     print(class_prediction.shape)\n",
    "    class_prediction = class_prediction.reshape(xx.shape)\n",
    "    \n",
    "    plt.figure(figsize=(7,7))\n",
    "    plt.pcolormesh(xx, yy, class_prediction, cmap = decision_surf_color)\n",
    "    #plt.scatter(X[:,0], X[:,1], c=y, cmap = datapoint_colors)\n",
    "    sb.scatterplot(X[:,0], X[:,1], hue = y, palette = dpt_color)\n",
    "\n",
    "    plt.xlim(xx.min(), xx.max())\n",
    "    plt.ylim(yy.min(), yy.max())\n",
    "    \n",
    "    plt.title(\"K = \"+str(nn))\n",
    "    plt.show()\n",
    "    \n",
    "\n",
    "    \n",
    "NN = 5\n",
    "knn_comparisons(data, NN)"
   ]
  },
  {
   "cell_type": "code",
   "execution_count": null,
   "metadata": {},
   "outputs": [],
   "source": []
  },
  {
   "cell_type": "code",
   "execution_count": null,
   "metadata": {},
   "outputs": [],
   "source": []
  },
  {
   "cell_type": "code",
   "execution_count": null,
   "metadata": {},
   "outputs": [],
   "source": []
  },
  {
   "cell_type": "code",
   "execution_count": null,
   "metadata": {},
   "outputs": [],
   "source": []
  },
  {
   "cell_type": "code",
   "execution_count": null,
   "metadata": {},
   "outputs": [],
   "source": []
  },
  {
   "cell_type": "code",
   "execution_count": null,
   "metadata": {},
   "outputs": [],
   "source": []
  },
  {
   "cell_type": "code",
   "execution_count": null,
   "metadata": {},
   "outputs": [],
   "source": []
  }
 ],
 "metadata": {
  "kernelspec": {
   "display_name": "Python 3",
   "language": "python",
   "name": "python3"
  },
  "language_info": {
   "codemirror_mode": {
    "name": "ipython",
    "version": 3
   },
   "file_extension": ".py",
   "mimetype": "text/x-python",
   "name": "python",
   "nbconvert_exporter": "python",
   "pygments_lexer": "ipython3",
   "version": "3.7.3"
  }
 },
 "nbformat": 4,
 "nbformat_minor": 2
}
