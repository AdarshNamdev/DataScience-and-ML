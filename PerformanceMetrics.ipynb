{
 "cells": [
  {
   "cell_type": "code",
   "execution_count": 1,
   "metadata": {},
   "outputs": [],
   "source": [
    "import numpy as np\n",
    "import pandas as pd\n",
    "from tqdm import tqdm\n",
    "# other than these two you should not import any other packages"
   ]
  },
  {
   "cell_type": "code",
   "execution_count": 2,
   "metadata": {},
   "outputs": [
    {
     "name": "stdout",
     "output_type": "stream",
     "text": [
      "(10100, 3)\n"
     ]
    },
    {
     "data": {
      "text/html": [
       "<div>\n",
       "<style scoped>\n",
       "    .dataframe tbody tr th:only-of-type {\n",
       "        vertical-align: middle;\n",
       "    }\n",
       "\n",
       "    .dataframe tbody tr th {\n",
       "        vertical-align: top;\n",
       "    }\n",
       "\n",
       "    .dataframe thead th {\n",
       "        text-align: right;\n",
       "    }\n",
       "</style>\n",
       "<table border=\"1\" class=\"dataframe\">\n",
       "  <thead>\n",
       "    <tr style=\"text-align: right;\">\n",
       "      <th></th>\n",
       "      <th>y</th>\n",
       "      <th>proba</th>\n",
       "      <th>y_pred</th>\n",
       "    </tr>\n",
       "  </thead>\n",
       "  <tbody>\n",
       "    <tr>\n",
       "      <th>0</th>\n",
       "      <td>1.0</td>\n",
       "      <td>0.637387</td>\n",
       "      <td>NaN</td>\n",
       "    </tr>\n",
       "    <tr>\n",
       "      <th>1</th>\n",
       "      <td>1.0</td>\n",
       "      <td>0.635165</td>\n",
       "      <td>NaN</td>\n",
       "    </tr>\n",
       "    <tr>\n",
       "      <th>2</th>\n",
       "      <td>1.0</td>\n",
       "      <td>0.766586</td>\n",
       "      <td>NaN</td>\n",
       "    </tr>\n",
       "    <tr>\n",
       "      <th>3</th>\n",
       "      <td>1.0</td>\n",
       "      <td>0.724564</td>\n",
       "      <td>NaN</td>\n",
       "    </tr>\n",
       "    <tr>\n",
       "      <th>4</th>\n",
       "      <td>1.0</td>\n",
       "      <td>0.889199</td>\n",
       "      <td>NaN</td>\n",
       "    </tr>\n",
       "  </tbody>\n",
       "</table>\n",
       "</div>"
      ],
      "text/plain": [
       "     y     proba  y_pred\n",
       "0  1.0  0.637387     NaN\n",
       "1  1.0  0.635165     NaN\n",
       "2  1.0  0.766586     NaN\n",
       "3  1.0  0.724564     NaN\n",
       "4  1.0  0.889199     NaN"
      ]
     },
     "execution_count": 2,
     "metadata": {},
     "output_type": "execute_result"
    }
   ],
   "source": [
    "df = pd.read_csv(r\"D:\\Applied AI\\Datasets and DB\\5_a.csv\")\n",
    "df['y_pred'] = np.NaN\n",
    "print(df.shape)\n",
    "df.head()"
   ]
  },
  {
   "cell_type": "code",
   "execution_count": 3,
   "metadata": {},
   "outputs": [
    {
     "data": {
      "text/html": [
       "<div>\n",
       "<style scoped>\n",
       "    .dataframe tbody tr th:only-of-type {\n",
       "        vertical-align: middle;\n",
       "    }\n",
       "\n",
       "    .dataframe tbody tr th {\n",
       "        vertical-align: top;\n",
       "    }\n",
       "\n",
       "    .dataframe thead th {\n",
       "        text-align: right;\n",
       "    }\n",
       "</style>\n",
       "<table border=\"1\" class=\"dataframe\">\n",
       "  <thead>\n",
       "    <tr style=\"text-align: right;\">\n",
       "      <th></th>\n",
       "      <th>y</th>\n",
       "      <th>proba</th>\n",
       "      <th>y_pred</th>\n",
       "    </tr>\n",
       "  </thead>\n",
       "  <tbody>\n",
       "    <tr>\n",
       "      <th>0</th>\n",
       "      <td>1.0</td>\n",
       "      <td>0.637387</td>\n",
       "      <td>1.0</td>\n",
       "    </tr>\n",
       "    <tr>\n",
       "      <th>1</th>\n",
       "      <td>1.0</td>\n",
       "      <td>0.635165</td>\n",
       "      <td>1.0</td>\n",
       "    </tr>\n",
       "    <tr>\n",
       "      <th>2</th>\n",
       "      <td>1.0</td>\n",
       "      <td>0.766586</td>\n",
       "      <td>1.0</td>\n",
       "    </tr>\n",
       "    <tr>\n",
       "      <th>3</th>\n",
       "      <td>1.0</td>\n",
       "      <td>0.724564</td>\n",
       "      <td>1.0</td>\n",
       "    </tr>\n",
       "    <tr>\n",
       "      <th>4</th>\n",
       "      <td>1.0</td>\n",
       "      <td>0.889199</td>\n",
       "      <td>1.0</td>\n",
       "    </tr>\n",
       "  </tbody>\n",
       "</table>\n",
       "</div>"
      ],
      "text/plain": [
       "     y     proba  y_pred\n",
       "0  1.0  0.637387     1.0\n",
       "1  1.0  0.635165     1.0\n",
       "2  1.0  0.766586     1.0\n",
       "3  1.0  0.724564     1.0\n",
       "4  1.0  0.889199     1.0"
      ]
     },
     "execution_count": 3,
     "metadata": {},
     "output_type": "execute_result"
    }
   ],
   "source": [
    "# 𝑦𝑝𝑟𝑒𝑑=[0 if y_score < 0.5 else 1] \n",
    "\n",
    "for i in range(0, len(df['proba'])):\n",
    "    if df['proba'].iloc[i] < 0.5:\n",
    "        df[\"y_pred\"].iloc[i] = 0\n",
    "        \n",
    "    else:\n",
    "        df[\"y_pred\"].iloc[i] = 1\n",
    "df.head()"
   ]
  },
  {
   "cell_type": "markdown",
   "metadata": {},
   "source": [
    "### Computing total Zeros and Ones in y^"
   ]
  },
  {
   "cell_type": "code",
   "execution_count": 4,
   "metadata": {},
   "outputs": [
    {
     "name": "stdout",
     "output_type": "stream",
     "text": [
      "0\n",
      "10100\n",
      "10100\n"
     ]
    }
   ],
   "source": [
    "count_0 = 0\n",
    "count_1 = 0\n",
    "for i in range(0, len(df['y'])):\n",
    "    if df['y_pred'].iloc[i] == 0:\n",
    "        count_0 += 1\n",
    "    else:\n",
    "        count_1 += 1\n",
    "\n",
    "print(count_0)\n",
    "print(count_1)\n",
    "print(count_0 + count_1)"
   ]
  },
  {
   "cell_type": "markdown",
   "metadata": {},
   "source": [
    "### Computing Confusion Matrix !"
   ]
  },
  {
   "cell_type": "code",
   "execution_count": 5,
   "metadata": {},
   "outputs": [
    {
     "name": "stdout",
     "output_type": "stream",
     "text": [
      "TP:  10000\n",
      "FN:  0\n",
      "FP:  100\n",
      "TN:  0\n"
     ]
    },
    {
     "data": {
      "text/plain": [
       "array([[  0,   0],\n",
       "       [100,   0]])"
      ]
     },
     "execution_count": 5,
     "metadata": {},
     "output_type": "execute_result"
    }
   ],
   "source": [
    "TP = FN = FP = TN = 0\n",
    "\n",
    "#      y | y_pred\n",
    "#     -----------\n",
    "# TP = 1 | 1\n",
    "# FN = 1 | 0\n",
    "# FP = 0 | 1\n",
    "# TN = 0 | 0\n",
    "\n",
    "col_y = np.array(df['y'])\n",
    "col_y_pred = np.array(df['y_pred'])\n",
    "\n",
    "for i in range(0, len(df['y_pred'])):\n",
    "    if df['y'][i] == 1 and df['y_pred'][i] == 1:\n",
    "        TP += 1\n",
    "    \n",
    "    elif df['y'][i] == 1 and df['y_pred'][i] == 0:\n",
    "        FN += 1\n",
    "    \n",
    "    elif df['y'][i] == 0 and df['y_pred'][i] == 1:\n",
    "        FP += 1\n",
    "        \n",
    "    elif df['y'][i] == 0 and df['y_pred'][i] == 0:\n",
    "        TN += 1\n",
    "    \n",
    "print(\"TP: \",TP)\n",
    "print(\"FN: \",FN)\n",
    "print(\"FP: \",FP)\n",
    "print(\"TN: \",TN)\n",
    "\n",
    "Confusion_Matrix = np.array([TN,FN,FP,TN]).reshape(2,2)\n",
    "Confusion_Matrix\n",
    "            "
   ]
  },
  {
   "cell_type": "markdown",
   "metadata": {},
   "source": [
    "### Computing Precision and Recall using their formulae"
   ]
  },
  {
   "cell_type": "code",
   "execution_count": 6,
   "metadata": {},
   "outputs": [
    {
     "name": "stdout",
     "output_type": "stream",
     "text": [
      "Recall:  1.0\n",
      "Precision:  0.9900990099009901\n"
     ]
    }
   ],
   "source": [
    "recall = TP/(TP + FN)\n",
    "precision = TP/(TP + FP)\n",
    "print(\"Recall: \", recall)\n",
    "print(\"Precision: \", precision)"
   ]
  },
  {
   "cell_type": "markdown",
   "metadata": {},
   "source": [
    "### Computing F1-Score using precision and recall"
   ]
  },
  {
   "cell_type": "code",
   "execution_count": 7,
   "metadata": {},
   "outputs": [
    {
     "name": "stdout",
     "output_type": "stream",
     "text": [
      "F1 Score:  0.9950248756218906\n"
     ]
    }
   ],
   "source": [
    "f1_score = 2 * ((precision * recall)/(precision + recall))\n",
    "print(\"F1 Score: \", f1_score)"
   ]
  },
  {
   "cell_type": "markdown",
   "metadata": {},
   "source": [
    "### Computing Accuracy using the elements of Confusion Matrix"
   ]
  },
  {
   "cell_type": "code",
   "execution_count": 8,
   "metadata": {},
   "outputs": [
    {
     "name": "stdout",
     "output_type": "stream",
     "text": [
      "Accuracy:  0.9900990099009901\n"
     ]
    }
   ],
   "source": [
    "accuracy = (TP + TN)/(TP + TN + FN + FP)\n",
    "print(\"Accuracy: \", accuracy)"
   ]
  },
  {
   "cell_type": "markdown",
   "metadata": {},
   "source": [
    "### Computing AUC Score"
   ]
  },
  {
   "cell_type": "code",
   "execution_count": 9,
   "metadata": {},
   "outputs": [
    {
     "name": "stderr",
     "output_type": "stream",
     "text": [
      "100%|████████████████████████████████████████████████████████████████████████████| 10100/10100 [01:46<00:00, 94.43it/s]\n"
     ]
    },
    {
     "name": "stdout",
     "output_type": "stream",
     "text": [
      "AUC:  0.48829900000000004\n"
     ]
    }
   ],
   "source": [
    "def ConfusionMatrix(dataframe):\n",
    "    TP= FN= FP= TN = 0\n",
    "    actual = list(dataframe['y'])\n",
    "    predicted = list(dataframe['y_pred'])\n",
    "    \n",
    "    for i in range(0, len(predicted)):\n",
    "        if actual[i] == 1 and predicted[i] == 1:\n",
    "            TP += 1\n",
    "    \n",
    "        elif actual[i] == 1 and predicted[i] == 0:\n",
    "            FN += 1\n",
    "    \n",
    "        elif actual[i] == 0 and predicted[i] == 1:\n",
    "            FP += 1\n",
    "        \n",
    "        elif actual[i] == 0 and predicted[i] == 0:\n",
    "            TN += 1\n",
    "            \n",
    "    return TP, FN, FP, TN\n",
    "\n",
    "\n",
    "def TPR_FPR(dataframe, thres):\n",
    "    y_pred = []\n",
    "    proba = list(dataframe['proba'])\n",
    "    \n",
    "    for i in proba:\n",
    "        if i < thres:\n",
    "            y_pred.append(0.0)\n",
    "        else:\n",
    "            y_pred.append(1.0)\n",
    "            \n",
    "    dataframe['y_pred'] = y_pred\n",
    "    #print(dataframe)\n",
    "    \n",
    "    TPR = FPR = 0\n",
    "    \n",
    "    TP, FN, FP, TN = ConfusionMatrix(dataframe)\n",
    "    if FN+TP != 0:\n",
    "        TPR = TP/(FN+TP)\n",
    "        \n",
    "        \n",
    "    if TN+FP != 0:\n",
    "        FPR = FP/(TN+FP)\n",
    "    \n",
    "    #auc = np.trapz\n",
    "    \n",
    "    return TPR, FPR\n",
    "\n",
    "\n",
    "def auc_score(dframe):\n",
    "    df= dframe.sort_values(by= 'proba', ascending = False)\n",
    "    TPRs = []\n",
    "    FPRs = []\n",
    "\n",
    "    for threshold in tqdm(df['proba']):\n",
    "    \n",
    "        TPRs.append(TPR_FPR(dframe, threshold)[0])\n",
    "        FPRs.append(TPR_FPR(dframe, threshold)[1])\n",
    "    \n",
    "    #print(\"AUC: \", np.trapz(TPRs, FPRs))\n",
    "    \n",
    "    return TPRs, FPRs, np.trapz(TPRs, FPRs)\n",
    "\n",
    "\n",
    "dframe = pd.read_csv(r\"D:\\Applied AI\\Datasets and DB\\5_a.csv\")\n",
    "tprs, fprs , auc = auc_score(dframe)\n",
    "print(\"AUC: \", auc)\n"
   ]
  },
  {
   "cell_type": "markdown",
   "metadata": {},
   "source": [
    "### Another code of computing AUC Score"
   ]
  },
  {
   "cell_type": "code",
   "execution_count": 10,
   "metadata": {},
   "outputs": [
    {
     "name": "stderr",
     "output_type": "stream",
     "text": [
      "100%|███████████████████████████████████████████████████████████████████████████| 10100/10100 [01:17<00:00, 130.00it/s]\n"
     ]
    },
    {
     "name": "stdout",
     "output_type": "stream",
     "text": [
      "The auc score without using sklearn: 0.48829900000000004\n"
     ]
    }
   ],
   "source": [
    "from tqdm import tqdm\n",
    "\n",
    "data=pd.read_csv(r\"D:\\Applied AI\\Datasets and DB\\5_a.csv\")\n",
    "\n",
    "negative_points= data['y'].value_counts()[0] \n",
    "positive_points = data['y'].value_counts()[1]\n",
    "\n",
    "tpr_array = [] \n",
    "fpr_array = [] \n",
    "\n",
    "sorted_data = data.sort_values('proba', ascending = False)\n",
    "for threshold in tqdm(sorted_data['proba']):\n",
    "    y_pred = [] \n",
    "    for k in sorted_data['proba']:\n",
    "        if (k<threshold):\n",
    "            y_pred.append(0.0)\n",
    "        else:\n",
    "            y_pred.append(1.0)\n",
    "    sorted_data['y_pred'] = y_pred\n",
    "    for k in data:\n",
    "        TP = ((sorted_data['y']==1.0) & (sorted_data['y_pred'] == 1.0)).sum()   \n",
    "        FP = ((sorted_data['y']==0.0) & (sorted_data['y_pred'] == 1.0)).sum()\n",
    "        TN = sum((sorted_data['y'] == 0) & (sorted_data['y_pred'] == 0))\n",
    "        FN = sum((sorted_data['y'] == 1) & (sorted_data['y_pred'] == 0))\n",
    "    tpr_array.append(TP/(FN+TP))\n",
    "    fpr_array.append(FP/(TN+FP))\n",
    "auc = np.trapz(tpr_array,fpr_array)\n",
    "print(\"The auc score without using sklearn:\",auc)"
   ]
  },
  {
   "cell_type": "code",
   "execution_count": 24,
   "metadata": {},
   "outputs": [
    {
     "name": "stderr",
     "output_type": "stream",
     "text": [
      "100%|████████████████████████████████████████████████████████████████████████████| 10100/10100 [01:41<00:00, 99.51it/s]\n"
     ]
    },
    {
     "data": {
      "image/png": "[encoded data removed]",
      "text/plain": [
       "<Figure size 576x432 with 1 Axes>"
      ]
     },
     "metadata": {},
     "output_type": "display_data"
    }
   ],
   "source": [
    "%matplotlib inline\n",
    "def plot_roc_curve(dataframe, alltpr= 0, allfpr= 0, aucscore= 0):\n",
    "    %matplotlib inline\n",
    "    alltpr, allfpr, aucscore = auc_score(dataframe)\n",
    "    \n",
    "    import matplotlib.pyplot as plt\n",
    "    import seaborn as sb\n",
    "    #alltpr.sort(); allfpr.sort()\n",
    "    plt.figure(figsize = (8,6), facecolor= 'orange')\n",
    "    sb.set_style('darkgrid')\n",
    "    plt.title(\"Receiver Operating Curve (ROC)\")\n",
    "    plt.xlabel('Flase Positive Rate')\n",
    "    plt.ylabel('True Postive Rate (a.k.a Recall/Sensitivity)')\n",
    "    plt.plot(allfpr, alltpr, label = \"Area = {}\".format(round(aucscore,3)))\n",
    "    x1 = allfpr\n",
    "    x2 = x1\n",
    "    plt.plot(x1, x2, 'r-')\n",
    "    plt.legend(loc='lower right')\n",
    "    \n",
    "    return plt.show()\n",
    "    \n",
    "df_5a = pd.read_csv(r\"D:\\Applied AI\\Datasets and DB\\5_a.csv\")\n",
    "df_5a['y_pred'] = [0 if i < 0.5 else 1 for i in df_5a['proba']]\n",
    "\n",
    "plot_roc_curve(dataframe= df_5a)\n",
    "    "
   ]
  },
  {
   "cell_type": "code",
   "execution_count": 12,
   "metadata": {},
   "outputs": [
    {
     "data": {
      "text/html": [
       "<div>\n",
       "<style scoped>\n",
       "    .dataframe tbody tr th:only-of-type {\n",
       "        vertical-align: middle;\n",
       "    }\n",
       "\n",
       "    .dataframe tbody tr th {\n",
       "        vertical-align: top;\n",
       "    }\n",
       "\n",
       "    .dataframe thead th {\n",
       "        text-align: right;\n",
       "    }\n",
       "</style>\n",
       "<table border=\"1\" class=\"dataframe\">\n",
       "  <thead>\n",
       "    <tr style=\"text-align: right;\">\n",
       "      <th></th>\n",
       "      <th>y</th>\n",
       "      <th>proba</th>\n",
       "    </tr>\n",
       "  </thead>\n",
       "  <tbody>\n",
       "    <tr>\n",
       "      <th>0</th>\n",
       "      <td>0.0</td>\n",
       "      <td>0.281035</td>\n",
       "    </tr>\n",
       "    <tr>\n",
       "      <th>1</th>\n",
       "      <td>0.0</td>\n",
       "      <td>0.465152</td>\n",
       "    </tr>\n",
       "    <tr>\n",
       "      <th>2</th>\n",
       "      <td>0.0</td>\n",
       "      <td>0.352793</td>\n",
       "    </tr>\n",
       "    <tr>\n",
       "      <th>3</th>\n",
       "      <td>0.0</td>\n",
       "      <td>0.157818</td>\n",
       "    </tr>\n",
       "    <tr>\n",
       "      <th>4</th>\n",
       "      <td>0.0</td>\n",
       "      <td>0.276648</td>\n",
       "    </tr>\n",
       "  </tbody>\n",
       "</table>\n",
       "</div>"
      ],
      "text/plain": [
       "     y     proba\n",
       "0  0.0  0.281035\n",
       "1  0.0  0.465152\n",
       "2  0.0  0.352793\n",
       "3  0.0  0.157818\n",
       "4  0.0  0.276648"
      ]
     },
     "execution_count": 12,
     "metadata": {},
     "output_type": "execute_result"
    }
   ],
   "source": [
    "df_5b = pd.read_csv(r\"D:\\Applied AI\\Datasets and DB\\5_b.csv\")\n",
    "df_5b.head()"
   ]
  },
  {
   "cell_type": "code",
   "execution_count": 13,
   "metadata": {},
   "outputs": [
    {
     "name": "stdout",
     "output_type": "stream",
     "text": [
      "Total 0s under 'y':  10000\n",
      "Total 1s under 'y':  100\n"
     ]
    }
   ],
   "source": [
    "print(\"Total 0s under 'y': \",list(df_5b['y']).count(0))\n",
    "print(\"Total 1s under 'y': \",list(df_5b['y']).count(1))"
   ]
  },
  {
   "cell_type": "markdown",
   "metadata": {},
   "source": [
    "### Computing Confusion Matrix"
   ]
  },
  {
   "cell_type": "code",
   "execution_count": 14,
   "metadata": {},
   "outputs": [
    {
     "name": "stdout",
     "output_type": "stream",
     "text": [
      "TP:  55\n",
      "FN:  45\n",
      "FP:  239\n",
      "TN:  9761\n"
     ]
    },
    {
     "data": {
      "text/plain": [
       "array([[  55,   45],\n",
       "       [ 239, 9761]])"
      ]
     },
     "execution_count": 14,
     "metadata": {},
     "output_type": "execute_result"
    }
   ],
   "source": [
    "df_5b['y_pred'] = [0 if i < 0.5 else 1 for i in df_5b['proba']]\n",
    "\n",
    "\n",
    "ConMat = np.array(ConfusionMatrix(df_5b)).reshape(2,2)\n",
    "TP, FN, FP, TN = ConfusionMatrix(df_5b)\n",
    "\n",
    "print(\"TP: \",TP)\n",
    "print(\"FN: \",FN)\n",
    "print(\"FP: \",FP)\n",
    "print(\"TN: \",TN)\n",
    "ConMat\n"
   ]
  },
  {
   "cell_type": "markdown",
   "metadata": {},
   "source": [
    "### Computing F1 Score"
   ]
  },
  {
   "cell_type": "code",
   "execution_count": 15,
   "metadata": {},
   "outputs": [
    {
     "data": {
      "text/plain": [
       "0.2791878172588833"
      ]
     },
     "execution_count": 15,
     "metadata": {},
     "output_type": "execute_result"
    }
   ],
   "source": [
    "def f1_score(dataframe):\n",
    "    \n",
    "    TP, FN, FP, TN = ConfusionMatrix(dataframe)\n",
    "    recall = TP/(TP + FN)\n",
    "    precision = TP/(TP + FP)\n",
    "    #print(\"Recall: \", recall)\n",
    "    #print(\"Precision: \", precision)\n",
    "\n",
    "    f1_score = 2 * ((precision * recall)/(precision + recall))\n",
    "    return f1_score\n",
    "\n",
    "f1 = f1_score(df_5b)\n",
    "f1"
   ]
  },
  {
   "cell_type": "markdown",
   "metadata": {},
   "source": [
    "### Computing AUC Score"
   ]
  },
  {
   "cell_type": "code",
   "execution_count": 16,
   "metadata": {},
   "outputs": [
    {
     "name": "stderr",
     "output_type": "stream",
     "text": [
      "100%|████████████████████████████████████████████████████████████████████████████| 10100/10100 [01:56<00:00, 95.82it/s]\n"
     ]
    },
    {
     "name": "stdout",
     "output_type": "stream",
     "text": [
      "AUC:  0.9377570000000001\n"
     ]
    }
   ],
   "source": [
    "auc = list(auc_score(df_5b))[-1]\n",
    "print(\"AUC: \", auc)"
   ]
  },
  {
   "cell_type": "code",
   "execution_count": 25,
   "metadata": {},
   "outputs": [
    {
     "name": "stderr",
     "output_type": "stream",
     "text": [
      "100%|████████████████████████████████████████████████████████████████████████████| 10100/10100 [01:56<00:00, 86.61it/s]\n"
     ]
    },
    {
     "data": {
      "image/png": "[encoded data removed]",
      "text/plain": [
       "<Figure size 576x432 with 1 Axes>"
      ]
     },
     "metadata": {},
     "output_type": "display_data"
    }
   ],
   "source": [
    "plot_roc_curve(dataframe = df_5b)"
   ]
  },
  {
   "cell_type": "markdown",
   "metadata": {},
   "source": [
    "### Computing Accuracy"
   ]
  },
  {
   "cell_type": "code",
   "execution_count": 18,
   "metadata": {},
   "outputs": [
    {
     "name": "stdout",
     "output_type": "stream",
     "text": [
      "Accuracy:  0.9718811881188119\n"
     ]
    }
   ],
   "source": [
    "def accuracy(*components):\n",
    "    accuracy_score = (TP + TN)/(TP + TN + FN + FP)\n",
    "    \n",
    "    return accuracy_score\n",
    "\n",
    "print(\"Accuracy: \", accuracy(list(ConfusionMatrix(df_5b))))"
   ]
  },
  {
   "cell_type": "markdown",
   "metadata": {},
   "source": [
    "<font color='red'><b>C.</b></font> Compute the best threshold (similarly to ROC curve computation) of probability which gives lowest values of metric <b>A</b> for the given data <strong>5_c.csv</strong>\n",
    "<br>\n",
    "\n",
    "you will be predicting label of a data points like this: $y^{pred}= \\text{[0 if y_score < threshold  else 1]}$\n",
    "\n",
    "$ A = 500 \\times \\text{number of false negative} + 100 \\times \\text{numebr of false positive}$\n",
    "\n",
    "<pre>\n",
    "   <b>Note 1:</b> in this data you can see number of negative points > number of positive points\n",
    "   <b>Note 2:</b> use pandas or numpy to read the data from <b>5_c.csv</b>\n",
    "</pre>"
   ]
  },
  {
   "cell_type": "code",
   "execution_count": 19,
   "metadata": {},
   "outputs": [
    {
     "name": "stdout",
     "output_type": "stream",
     "text": [
      "Best threshold is:  0.230039028\n"
     ]
    }
   ],
   "source": [
    "df_5c = pd.read_csv(r\"D:\\Applied AI\\Datasets and DB\\5_c.csv\")\n",
    "all_thresholds = sorted(np.unique(df_5c['proba']))\n",
    "#print(len(all_thresholds))\n",
    "A = []\n",
    "\n",
    "def metric_A(df, threshold):\n",
    "    proba = list(df['proba'])\n",
    "    y_pred = []\n",
    "        \n",
    "    for p in proba:\n",
    "        if p < threshold:\n",
    "            y_pred.append(0)\n",
    "        \n",
    "        else:\n",
    "            y_pred.append(1)\n",
    "            \n",
    "    df['y_pred'] = y_pred\n",
    "            \n",
    "    TP, FN, FP, TN = ConfusionMatrix(df)              # return TP, FN, FP, TN\n",
    "    \n",
    "    metric_A = (500 * FN) + (100 * FP)\n",
    "    \n",
    "    return metric_A\n",
    "    \n",
    "def BestThreshold(all_thresh, metric):\n",
    "    lowest_metric_at = np.argsort(np.array(metric))[0]\n",
    "    return all_thresh[lowest_metric_at]\n",
    "    \n",
    "\n",
    "for thres in all_thresholds:\n",
    "    A.append(metric_A(df_5c, thres))\n",
    "    \n",
    "print(\"Best threshold is: \",BestThreshold(all_thresholds, A))\n",
    "    \n",
    "\n"
   ]
  },
  {
   "cell_type": "markdown",
   "metadata": {},
   "source": [
    "<pre>\n",
    "<font color='red'><b>D.</b></font> Compute performance metrics(for regression) for the given data <strong>5_d.csv</strong>\n",
    "    <b>Note 2:</b> use pandas or numpy to read the data from <b>5_d.csv</b>\n",
    "    <b>Note 1:</b> <b>5_d.csv</b> will having two columns Y and predicted_Y both are real valued features\n",
    "<ol>\n",
    "<li> Compute Mean Square Error </li>\n",
    "<li> Compute MAPE: https://www.youtube.com/watch?v=ly6ztgIkUxk</li>\n",
    "<li> Compute R^2 error: https://en.wikipedia.org/wiki/Coefficient_of_determination#Definitions </li>\n",
    "</ol>\n",
    "</pre>"
   ]
  },
  {
   "cell_type": "code",
   "execution_count": 20,
   "metadata": {},
   "outputs": [
    {
     "name": "stdout",
     "output_type": "stream",
     "text": [
      "       y   pred\n",
      "0  101.0  100.0\n",
      "1  120.0  100.0\n",
      "2  131.0  113.0\n",
      "3  164.0  125.0\n",
      "4  154.0  152.0\n",
      "\n",
      "\n",
      "Mean Square Error:  177.166\n"
     ]
    }
   ],
   "source": [
    "df_5d = pd.read_csv(r\"D:\\Applied AI\\Datasets and DB\\5_d.csv\")\n",
    "print(df_5d.head());print(\"\\n\")\n",
    "\n",
    "MSE = np.mean(np.square(np.subtract(df_5d['y'], df_5d['pred'])))\n",
    "print(\"Mean Square Error: \", round(MSE,3))"
   ]
  },
  {
   "cell_type": "code",
   "execution_count": 21,
   "metadata": {},
   "outputs": [
    {
     "name": "stdout",
     "output_type": "stream",
     "text": [
      "MAPE:  12.912029940096314\n"
     ]
    }
   ],
   "source": [
    "# MAPE: Mean Absolute Percentage Error (Modified version)\n",
    "\n",
    "MAPE = np.mean(abs(df_5d['y'] - df_5d['pred'])/np.mean(df_5d['y'])) * 100\n",
    "print(\"MAPE: \",MAPE)"
   ]
  },
  {
   "cell_type": "code",
   "execution_count": 22,
   "metadata": {},
   "outputs": [
    {
     "name": "stdout",
     "output_type": "stream",
     "text": [
      "R2:  0.9564\n"
     ]
    }
   ],
   "source": [
    "def R2(dframe):\n",
    "    avg_y = np.mean(dframe['y'])\n",
    "    SS_tot = np.sum((np.subtract(dframe['y'], avg_y))**2)\n",
    "    SS_res = np.sum((np.subtract(dframe['y'], dframe['pred']))**2)\n",
    "    return 1 - (SS_res/SS_tot)\n",
    "\n",
    "print(\"R2: \", round(R2(df_5d), 4))"
   ]
  }
 ],
 "metadata": {
  "kernelspec": {
   "display_name": "Python 3",
   "language": "python",
   "name": "python3"
  },
  "language_info": {
   "codemirror_mode": {
    "name": "ipython",
    "version": 3
   },
   "file_extension": ".py",
   "mimetype": "text/x-python",
   "name": "python",
   "nbconvert_exporter": "python",
   "pygments_lexer": "ipython3",
   "version": "3.7.3"
  }
 },
 "nbformat": 4,
 "nbformat_minor": 2
}
